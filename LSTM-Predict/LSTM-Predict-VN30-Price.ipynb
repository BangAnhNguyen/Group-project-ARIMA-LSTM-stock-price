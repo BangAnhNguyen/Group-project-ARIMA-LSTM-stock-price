{
  "nbformat": 4,
  "nbformat_minor": 0,
  "metadata": {
    "colab": {
      "provenance": []
    },
    "kernelspec": {
      "name": "python3",
      "display_name": "Python 3"
    },
    "language_info": {
      "name": "python"
    }
  },
  "cells": [
    {
      "cell_type": "code",
      "execution_count": null,
      "metadata": {
        "colab": {
          "base_uri": "https://localhost:8080/"
        },
        "id": "5LROjXLa9QDl",
        "outputId": "adfe866a-2ada-4c76-f8b0-c9681b216b16"
      },
      "outputs": [
        {
          "output_type": "stream",
          "name": "stdout",
          "text": [
            "Colab only includes TensorFlow 2.x; %tensorflow_version has no effect.\n"
          ]
        }
      ],
      "source": [
        "%tensorflow_version 2.x\n",
        "import tensorflow as tf\n",
        "import json\n",
        "import requests\n",
        "from keras.models import Sequential\n",
        "from keras.layers import Activation, Dense, Dropout, LSTM\n",
        "import matplotlib.pyplot as plt\n",
        "import numpy as np\n",
        "import pandas as pd\n",
        "import seaborn as sns\n",
        "%matplotlib inline"
      ]
    },
    {
      "cell_type": "code",
      "source": [
        "df = pd.read_csv('/content/Dữ liệu Lịch sử VN 30.csv')\n",
        "df"
      ],
      "metadata": {
        "colab": {
          "base_uri": "https://localhost:8080/",
          "height": 424
        },
        "id": "R5weQF1s9aaO",
        "outputId": "9f4704fc-6863-4cea-d5c1-a861f70241f2"
      },
      "execution_count": null,
      "outputs": [
        {
          "output_type": "execute_result",
          "data": {
            "text/plain": [
              "            Ngày  Lần cuối        Mở       Cao      Thấp       KL % Thay đổi\n",
              "0     29/09/2023  1,166.26  1,169.26  1,176.77  1,165.15  144.90K      0.16%\n",
              "1     28/09/2023  1,164.45  1,167.96  1,168.09  1,144.47  193.65K     -0.36%\n",
              "2     27/09/2023  1,168.60  1,154.54  1,168.60  1,141.09  190.47K      1.32%\n",
              "3     26/09/2023  1,153.37  1,161.62  1,174.24  1,152.44  242.76K     -0.57%\n",
              "4     25/09/2023  1,159.94  1,195.36  1,199.65  1,159.94  263.86K     -3.15%\n",
              "...          ...       ...       ...       ...       ...      ...        ...\n",
              "3673  09/01/2009    312.90    312.90    312.90    312.90      NaN     -0.39%\n",
              "3674  08/01/2009    314.14    314.14    314.14    314.14      NaN     -1.99%\n",
              "3675  07/01/2009    320.53    320.53    320.53    320.53      NaN      2.01%\n",
              "3676  06/01/2009    314.21    314.21    314.21    314.21      NaN      0.96%\n",
              "3677  05/01/2009    311.23    311.23    311.23    311.23      NaN     -0.67%\n",
              "\n",
              "[3678 rows x 7 columns]"
            ],
            "text/html": [
              "\n",
              "  <div id=\"df-4163f734-679a-48e2-a238-3f234c1016ee\" class=\"colab-df-container\">\n",
              "    <div>\n",
              "<style scoped>\n",
              "    .dataframe tbody tr th:only-of-type {\n",
              "        vertical-align: middle;\n",
              "    }\n",
              "\n",
              "    .dataframe tbody tr th {\n",
              "        vertical-align: top;\n",
              "    }\n",
              "\n",
              "    .dataframe thead th {\n",
              "        text-align: right;\n",
              "    }\n",
              "</style>\n",
              "<table border=\"1\" class=\"dataframe\">\n",
              "  <thead>\n",
              "    <tr style=\"text-align: right;\">\n",
              "      <th></th>\n",
              "      <th>Ngày</th>\n",
              "      <th>Lần cuối</th>\n",
              "      <th>Mở</th>\n",
              "      <th>Cao</th>\n",
              "      <th>Thấp</th>\n",
              "      <th>KL</th>\n",
              "      <th>% Thay đổi</th>\n",
              "    </tr>\n",
              "  </thead>\n",
              "  <tbody>\n",
              "    <tr>\n",
              "      <th>0</th>\n",
              "      <td>29/09/2023</td>\n",
              "      <td>1,166.26</td>\n",
              "      <td>1,169.26</td>\n",
              "      <td>1,176.77</td>\n",
              "      <td>1,165.15</td>\n",
              "      <td>144.90K</td>\n",
              "      <td>0.16%</td>\n",
              "    </tr>\n",
              "    <tr>\n",
              "      <th>1</th>\n",
              "      <td>28/09/2023</td>\n",
              "      <td>1,164.45</td>\n",
              "      <td>1,167.96</td>\n",
              "      <td>1,168.09</td>\n",
              "      <td>1,144.47</td>\n",
              "      <td>193.65K</td>\n",
              "      <td>-0.36%</td>\n",
              "    </tr>\n",
              "    <tr>\n",
              "      <th>2</th>\n",
              "      <td>27/09/2023</td>\n",
              "      <td>1,168.60</td>\n",
              "      <td>1,154.54</td>\n",
              "      <td>1,168.60</td>\n",
              "      <td>1,141.09</td>\n",
              "      <td>190.47K</td>\n",
              "      <td>1.32%</td>\n",
              "    </tr>\n",
              "    <tr>\n",
              "      <th>3</th>\n",
              "      <td>26/09/2023</td>\n",
              "      <td>1,153.37</td>\n",
              "      <td>1,161.62</td>\n",
              "      <td>1,174.24</td>\n",
              "      <td>1,152.44</td>\n",
              "      <td>242.76K</td>\n",
              "      <td>-0.57%</td>\n",
              "    </tr>\n",
              "    <tr>\n",
              "      <th>4</th>\n",
              "      <td>25/09/2023</td>\n",
              "      <td>1,159.94</td>\n",
              "      <td>1,195.36</td>\n",
              "      <td>1,199.65</td>\n",
              "      <td>1,159.94</td>\n",
              "      <td>263.86K</td>\n",
              "      <td>-3.15%</td>\n",
              "    </tr>\n",
              "    <tr>\n",
              "      <th>...</th>\n",
              "      <td>...</td>\n",
              "      <td>...</td>\n",
              "      <td>...</td>\n",
              "      <td>...</td>\n",
              "      <td>...</td>\n",
              "      <td>...</td>\n",
              "      <td>...</td>\n",
              "    </tr>\n",
              "    <tr>\n",
              "      <th>3673</th>\n",
              "      <td>09/01/2009</td>\n",
              "      <td>312.90</td>\n",
              "      <td>312.90</td>\n",
              "      <td>312.90</td>\n",
              "      <td>312.90</td>\n",
              "      <td>NaN</td>\n",
              "      <td>-0.39%</td>\n",
              "    </tr>\n",
              "    <tr>\n",
              "      <th>3674</th>\n",
              "      <td>08/01/2009</td>\n",
              "      <td>314.14</td>\n",
              "      <td>314.14</td>\n",
              "      <td>314.14</td>\n",
              "      <td>314.14</td>\n",
              "      <td>NaN</td>\n",
              "      <td>-1.99%</td>\n",
              "    </tr>\n",
              "    <tr>\n",
              "      <th>3675</th>\n",
              "      <td>07/01/2009</td>\n",
              "      <td>320.53</td>\n",
              "      <td>320.53</td>\n",
              "      <td>320.53</td>\n",
              "      <td>320.53</td>\n",
              "      <td>NaN</td>\n",
              "      <td>2.01%</td>\n",
              "    </tr>\n",
              "    <tr>\n",
              "      <th>3676</th>\n",
              "      <td>06/01/2009</td>\n",
              "      <td>314.21</td>\n",
              "      <td>314.21</td>\n",
              "      <td>314.21</td>\n",
              "      <td>314.21</td>\n",
              "      <td>NaN</td>\n",
              "      <td>0.96%</td>\n",
              "    </tr>\n",
              "    <tr>\n",
              "      <th>3677</th>\n",
              "      <td>05/01/2009</td>\n",
              "      <td>311.23</td>\n",
              "      <td>311.23</td>\n",
              "      <td>311.23</td>\n",
              "      <td>311.23</td>\n",
              "      <td>NaN</td>\n",
              "      <td>-0.67%</td>\n",
              "    </tr>\n",
              "  </tbody>\n",
              "</table>\n",
              "<p>3678 rows × 7 columns</p>\n",
              "</div>\n",
              "    <div class=\"colab-df-buttons\">\n",
              "\n",
              "  <div class=\"colab-df-container\">\n",
              "    <button class=\"colab-df-convert\" onclick=\"convertToInteractive('df-4163f734-679a-48e2-a238-3f234c1016ee')\"\n",
              "            title=\"Convert this dataframe to an interactive table.\"\n",
              "            style=\"display:none;\">\n",
              "\n",
              "  <svg xmlns=\"http://www.w3.org/2000/svg\" height=\"24px\" viewBox=\"0 -960 960 960\">\n",
              "    <path d=\"M120-120v-720h720v720H120Zm60-500h600v-160H180v160Zm220 220h160v-160H400v160Zm0 220h160v-160H400v160ZM180-400h160v-160H180v160Zm440 0h160v-160H620v160ZM180-180h160v-160H180v160Zm440 0h160v-160H620v160Z\"/>\n",
              "  </svg>\n",
              "    </button>\n",
              "\n",
              "  <style>\n",
              "    .colab-df-container {\n",
              "      display:flex;\n",
              "      gap: 12px;\n",
              "    }\n",
              "\n",
              "    .colab-df-convert {\n",
              "      background-color: #E8F0FE;\n",
              "      border: none;\n",
              "      border-radius: 50%;\n",
              "      cursor: pointer;\n",
              "      display: none;\n",
              "      fill: #1967D2;\n",
              "      height: 32px;\n",
              "      padding: 0 0 0 0;\n",
              "      width: 32px;\n",
              "    }\n",
              "\n",
              "    .colab-df-convert:hover {\n",
              "      background-color: #E2EBFA;\n",
              "      box-shadow: 0px 1px 2px rgba(60, 64, 67, 0.3), 0px 1px 3px 1px rgba(60, 64, 67, 0.15);\n",
              "      fill: #174EA6;\n",
              "    }\n",
              "\n",
              "    .colab-df-buttons div {\n",
              "      margin-bottom: 4px;\n",
              "    }\n",
              "\n",
              "    [theme=dark] .colab-df-convert {\n",
              "      background-color: #3B4455;\n",
              "      fill: #D2E3FC;\n",
              "    }\n",
              "\n",
              "    [theme=dark] .colab-df-convert:hover {\n",
              "      background-color: #434B5C;\n",
              "      box-shadow: 0px 1px 3px 1px rgba(0, 0, 0, 0.15);\n",
              "      filter: drop-shadow(0px 1px 2px rgba(0, 0, 0, 0.3));\n",
              "      fill: #FFFFFF;\n",
              "    }\n",
              "  </style>\n",
              "\n",
              "    <script>\n",
              "      const buttonEl =\n",
              "        document.querySelector('#df-4163f734-679a-48e2-a238-3f234c1016ee button.colab-df-convert');\n",
              "      buttonEl.style.display =\n",
              "        google.colab.kernel.accessAllowed ? 'block' : 'none';\n",
              "\n",
              "      async function convertToInteractive(key) {\n",
              "        const element = document.querySelector('#df-4163f734-679a-48e2-a238-3f234c1016ee');\n",
              "        const dataTable =\n",
              "          await google.colab.kernel.invokeFunction('convertToInteractive',\n",
              "                                                    [key], {});\n",
              "        if (!dataTable) return;\n",
              "\n",
              "        const docLinkHtml = 'Like what you see? Visit the ' +\n",
              "          '<a target=\"_blank\" href=https://colab.research.google.com/notebooks/data_table.ipynb>data table notebook</a>'\n",
              "          + ' to learn more about interactive tables.';\n",
              "        element.innerHTML = '';\n",
              "        dataTable['output_type'] = 'display_data';\n",
              "        await google.colab.output.renderOutput(dataTable, element);\n",
              "        const docLink = document.createElement('div');\n",
              "        docLink.innerHTML = docLinkHtml;\n",
              "        element.appendChild(docLink);\n",
              "      }\n",
              "    </script>\n",
              "  </div>\n",
              "\n",
              "\n",
              "<div id=\"df-658d5dea-3251-44aa-9050-080747442230\">\n",
              "  <button class=\"colab-df-quickchart\" onclick=\"quickchart('df-658d5dea-3251-44aa-9050-080747442230')\"\n",
              "            title=\"Suggest charts\"\n",
              "            style=\"display:none;\">\n",
              "\n",
              "<svg xmlns=\"http://www.w3.org/2000/svg\" height=\"24px\"viewBox=\"0 0 24 24\"\n",
              "     width=\"24px\">\n",
              "    <g>\n",
              "        <path d=\"M19 3H5c-1.1 0-2 .9-2 2v14c0 1.1.9 2 2 2h14c1.1 0 2-.9 2-2V5c0-1.1-.9-2-2-2zM9 17H7v-7h2v7zm4 0h-2V7h2v10zm4 0h-2v-4h2v4z\"/>\n",
              "    </g>\n",
              "</svg>\n",
              "  </button>\n",
              "\n",
              "<style>\n",
              "  .colab-df-quickchart {\n",
              "      --bg-color: #E8F0FE;\n",
              "      --fill-color: #1967D2;\n",
              "      --hover-bg-color: #E2EBFA;\n",
              "      --hover-fill-color: #174EA6;\n",
              "      --disabled-fill-color: #AAA;\n",
              "      --disabled-bg-color: #DDD;\n",
              "  }\n",
              "\n",
              "  [theme=dark] .colab-df-quickchart {\n",
              "      --bg-color: #3B4455;\n",
              "      --fill-color: #D2E3FC;\n",
              "      --hover-bg-color: #434B5C;\n",
              "      --hover-fill-color: #FFFFFF;\n",
              "      --disabled-bg-color: #3B4455;\n",
              "      --disabled-fill-color: #666;\n",
              "  }\n",
              "\n",
              "  .colab-df-quickchart {\n",
              "    background-color: var(--bg-color);\n",
              "    border: none;\n",
              "    border-radius: 50%;\n",
              "    cursor: pointer;\n",
              "    display: none;\n",
              "    fill: var(--fill-color);\n",
              "    height: 32px;\n",
              "    padding: 0;\n",
              "    width: 32px;\n",
              "  }\n",
              "\n",
              "  .colab-df-quickchart:hover {\n",
              "    background-color: var(--hover-bg-color);\n",
              "    box-shadow: 0 1px 2px rgba(60, 64, 67, 0.3), 0 1px 3px 1px rgba(60, 64, 67, 0.15);\n",
              "    fill: var(--button-hover-fill-color);\n",
              "  }\n",
              "\n",
              "  .colab-df-quickchart-complete:disabled,\n",
              "  .colab-df-quickchart-complete:disabled:hover {\n",
              "    background-color: var(--disabled-bg-color);\n",
              "    fill: var(--disabled-fill-color);\n",
              "    box-shadow: none;\n",
              "  }\n",
              "\n",
              "  .colab-df-spinner {\n",
              "    border: 2px solid var(--fill-color);\n",
              "    border-color: transparent;\n",
              "    border-bottom-color: var(--fill-color);\n",
              "    animation:\n",
              "      spin 1s steps(1) infinite;\n",
              "  }\n",
              "\n",
              "  @keyframes spin {\n",
              "    0% {\n",
              "      border-color: transparent;\n",
              "      border-bottom-color: var(--fill-color);\n",
              "      border-left-color: var(--fill-color);\n",
              "    }\n",
              "    20% {\n",
              "      border-color: transparent;\n",
              "      border-left-color: var(--fill-color);\n",
              "      border-top-color: var(--fill-color);\n",
              "    }\n",
              "    30% {\n",
              "      border-color: transparent;\n",
              "      border-left-color: var(--fill-color);\n",
              "      border-top-color: var(--fill-color);\n",
              "      border-right-color: var(--fill-color);\n",
              "    }\n",
              "    40% {\n",
              "      border-color: transparent;\n",
              "      border-right-color: var(--fill-color);\n",
              "      border-top-color: var(--fill-color);\n",
              "    }\n",
              "    60% {\n",
              "      border-color: transparent;\n",
              "      border-right-color: var(--fill-color);\n",
              "    }\n",
              "    80% {\n",
              "      border-color: transparent;\n",
              "      border-right-color: var(--fill-color);\n",
              "      border-bottom-color: var(--fill-color);\n",
              "    }\n",
              "    90% {\n",
              "      border-color: transparent;\n",
              "      border-bottom-color: var(--fill-color);\n",
              "    }\n",
              "  }\n",
              "</style>\n",
              "\n",
              "  <script>\n",
              "    async function quickchart(key) {\n",
              "      const quickchartButtonEl =\n",
              "        document.querySelector('#' + key + ' button');\n",
              "      quickchartButtonEl.disabled = true;  // To prevent multiple clicks.\n",
              "      quickchartButtonEl.classList.add('colab-df-spinner');\n",
              "      try {\n",
              "        const charts = await google.colab.kernel.invokeFunction(\n",
              "            'suggestCharts', [key], {});\n",
              "      } catch (error) {\n",
              "        console.error('Error during call to suggestCharts:', error);\n",
              "      }\n",
              "      quickchartButtonEl.classList.remove('colab-df-spinner');\n",
              "      quickchartButtonEl.classList.add('colab-df-quickchart-complete');\n",
              "    }\n",
              "    (() => {\n",
              "      let quickchartButtonEl =\n",
              "        document.querySelector('#df-658d5dea-3251-44aa-9050-080747442230 button');\n",
              "      quickchartButtonEl.style.display =\n",
              "        google.colab.kernel.accessAllowed ? 'block' : 'none';\n",
              "    })();\n",
              "  </script>\n",
              "</div>\n",
              "\n",
              "  <div id=\"id_9ac4a577-30f0-412e-96a6-9645ddc2baa2\">\n",
              "    <style>\n",
              "      .colab-df-generate {\n",
              "        background-color: #E8F0FE;\n",
              "        border: none;\n",
              "        border-radius: 50%;\n",
              "        cursor: pointer;\n",
              "        display: none;\n",
              "        fill: #1967D2;\n",
              "        height: 32px;\n",
              "        padding: 0 0 0 0;\n",
              "        width: 32px;\n",
              "      }\n",
              "\n",
              "      .colab-df-generate:hover {\n",
              "        background-color: #E2EBFA;\n",
              "        box-shadow: 0px 1px 2px rgba(60, 64, 67, 0.3), 0px 1px 3px 1px rgba(60, 64, 67, 0.15);\n",
              "        fill: #174EA6;\n",
              "      }\n",
              "\n",
              "      [theme=dark] .colab-df-generate {\n",
              "        background-color: #3B4455;\n",
              "        fill: #D2E3FC;\n",
              "      }\n",
              "\n",
              "      [theme=dark] .colab-df-generate:hover {\n",
              "        background-color: #434B5C;\n",
              "        box-shadow: 0px 1px 3px 1px rgba(0, 0, 0, 0.15);\n",
              "        filter: drop-shadow(0px 1px 2px rgba(0, 0, 0, 0.3));\n",
              "        fill: #FFFFFF;\n",
              "      }\n",
              "    </style>\n",
              "    <button class=\"colab-df-generate\" onclick=\"generateWithVariable('df')\"\n",
              "            title=\"Generate code using this dataframe.\"\n",
              "            style=\"display:none;\">\n",
              "\n",
              "  <svg xmlns=\"http://www.w3.org/2000/svg\" height=\"24px\"viewBox=\"0 0 24 24\"\n",
              "       width=\"24px\">\n",
              "    <path d=\"M7,19H8.4L18.45,9,17,7.55,7,17.6ZM5,21V16.75L18.45,3.32a2,2,0,0,1,2.83,0l1.4,1.43a1.91,1.91,0,0,1,.58,1.4,1.91,1.91,0,0,1-.58,1.4L9.25,21ZM18.45,9,17,7.55Zm-12,3A5.31,5.31,0,0,0,4.9,8.1,5.31,5.31,0,0,0,1,6.5,5.31,5.31,0,0,0,4.9,4.9,5.31,5.31,0,0,0,6.5,1,5.31,5.31,0,0,0,8.1,4.9,5.31,5.31,0,0,0,12,6.5,5.46,5.46,0,0,0,6.5,12Z\"/>\n",
              "  </svg>\n",
              "    </button>\n",
              "    <script>\n",
              "      (() => {\n",
              "      const buttonEl =\n",
              "        document.querySelector('#id_9ac4a577-30f0-412e-96a6-9645ddc2baa2 button.colab-df-generate');\n",
              "      buttonEl.style.display =\n",
              "        google.colab.kernel.accessAllowed ? 'block' : 'none';\n",
              "\n",
              "      buttonEl.onclick = () => {\n",
              "        google.colab.notebook.generateWithVariable('df');\n",
              "      }\n",
              "      })();\n",
              "    </script>\n",
              "  </div>\n",
              "\n",
              "    </div>\n",
              "  </div>\n"
            ]
          },
          "metadata": {},
          "execution_count": 2
        }
      ]
    },
    {
      "cell_type": "code",
      "source": [
        "  df.rename(columns={'Ngày': 'Time'}, inplace=True)\n",
        "  df['Time'] = pd.to_datetime(df['Time'], format='%d/%m/%Y')\n",
        "  df.index = df['Time']\n",
        "  df.drop([\"Time\"], axis='columns', inplace=True)\n",
        "  df.sort_index(ascending=True, inplace=True)\n",
        "  df.drop(columns=['KL', '% Thay đổi'], inplace=True)\n",
        "  df.rename(columns={'Lần cuối': 'Close', 'Mở': 'Open', 'Cao': 'High', 'Thấp': 'Low'}, inplace=True)\n",
        "  df['Close'] = pd.to_numeric(df['Close'].str.replace(',', ''), errors='coerce')\n",
        "  df['Open'] = pd.to_numeric(df['Open'].str.replace(',', ''), errors='coerce')\n",
        "  df['High'] = pd.to_numeric(df['High'].str.replace(',', ''), errors='coerce')\n",
        "  df['Low'] = pd.to_numeric(df['Low'].str.replace(',', ''), errors='coerce')"
      ],
      "metadata": {
        "id": "VyrEEsjr9amf"
      },
      "execution_count": null,
      "outputs": []
    },
    {
      "cell_type": "code",
      "source": [
        "df"
      ],
      "metadata": {
        "colab": {
          "base_uri": "https://localhost:8080/",
          "height": 455
        },
        "id": "UKA2I8Er9aqm",
        "outputId": "a94a9a4a-6d9a-494c-8152-eb859e8c6964"
      },
      "execution_count": null,
      "outputs": [
        {
          "output_type": "execute_result",
          "data": {
            "text/plain": [
              "              Close     Open     High      Low\n",
              "Time                                          \n",
              "2009-01-05   311.23   311.23   311.23   311.23\n",
              "2009-01-06   314.21   314.21   314.21   314.21\n",
              "2009-01-07   320.53   320.53   320.53   320.53\n",
              "2009-01-08   314.14   314.14   314.14   314.14\n",
              "2009-01-09   312.90   312.90   312.90   312.90\n",
              "...             ...      ...      ...      ...\n",
              "2023-09-25  1159.94  1195.36  1199.65  1159.94\n",
              "2023-09-26  1153.37  1161.62  1174.24  1152.44\n",
              "2023-09-27  1168.60  1154.54  1168.60  1141.09\n",
              "2023-09-28  1164.45  1167.96  1168.09  1144.47\n",
              "2023-09-29  1166.26  1169.26  1176.77  1165.15\n",
              "\n",
              "[3678 rows x 4 columns]"
            ],
            "text/html": [
              "\n",
              "  <div id=\"df-b6e844b3-3b3e-4f85-8e74-fc56e8c975a1\" class=\"colab-df-container\">\n",
              "    <div>\n",
              "<style scoped>\n",
              "    .dataframe tbody tr th:only-of-type {\n",
              "        vertical-align: middle;\n",
              "    }\n",
              "\n",
              "    .dataframe tbody tr th {\n",
              "        vertical-align: top;\n",
              "    }\n",
              "\n",
              "    .dataframe thead th {\n",
              "        text-align: right;\n",
              "    }\n",
              "</style>\n",
              "<table border=\"1\" class=\"dataframe\">\n",
              "  <thead>\n",
              "    <tr style=\"text-align: right;\">\n",
              "      <th></th>\n",
              "      <th>Close</th>\n",
              "      <th>Open</th>\n",
              "      <th>High</th>\n",
              "      <th>Low</th>\n",
              "    </tr>\n",
              "    <tr>\n",
              "      <th>Time</th>\n",
              "      <th></th>\n",
              "      <th></th>\n",
              "      <th></th>\n",
              "      <th></th>\n",
              "    </tr>\n",
              "  </thead>\n",
              "  <tbody>\n",
              "    <tr>\n",
              "      <th>2009-01-05</th>\n",
              "      <td>311.23</td>\n",
              "      <td>311.23</td>\n",
              "      <td>311.23</td>\n",
              "      <td>311.23</td>\n",
              "    </tr>\n",
              "    <tr>\n",
              "      <th>2009-01-06</th>\n",
              "      <td>314.21</td>\n",
              "      <td>314.21</td>\n",
              "      <td>314.21</td>\n",
              "      <td>314.21</td>\n",
              "    </tr>\n",
              "    <tr>\n",
              "      <th>2009-01-07</th>\n",
              "      <td>320.53</td>\n",
              "      <td>320.53</td>\n",
              "      <td>320.53</td>\n",
              "      <td>320.53</td>\n",
              "    </tr>\n",
              "    <tr>\n",
              "      <th>2009-01-08</th>\n",
              "      <td>314.14</td>\n",
              "      <td>314.14</td>\n",
              "      <td>314.14</td>\n",
              "      <td>314.14</td>\n",
              "    </tr>\n",
              "    <tr>\n",
              "      <th>2009-01-09</th>\n",
              "      <td>312.90</td>\n",
              "      <td>312.90</td>\n",
              "      <td>312.90</td>\n",
              "      <td>312.90</td>\n",
              "    </tr>\n",
              "    <tr>\n",
              "      <th>...</th>\n",
              "      <td>...</td>\n",
              "      <td>...</td>\n",
              "      <td>...</td>\n",
              "      <td>...</td>\n",
              "    </tr>\n",
              "    <tr>\n",
              "      <th>2023-09-25</th>\n",
              "      <td>1159.94</td>\n",
              "      <td>1195.36</td>\n",
              "      <td>1199.65</td>\n",
              "      <td>1159.94</td>\n",
              "    </tr>\n",
              "    <tr>\n",
              "      <th>2023-09-26</th>\n",
              "      <td>1153.37</td>\n",
              "      <td>1161.62</td>\n",
              "      <td>1174.24</td>\n",
              "      <td>1152.44</td>\n",
              "    </tr>\n",
              "    <tr>\n",
              "      <th>2023-09-27</th>\n",
              "      <td>1168.60</td>\n",
              "      <td>1154.54</td>\n",
              "      <td>1168.60</td>\n",
              "      <td>1141.09</td>\n",
              "    </tr>\n",
              "    <tr>\n",
              "      <th>2023-09-28</th>\n",
              "      <td>1164.45</td>\n",
              "      <td>1167.96</td>\n",
              "      <td>1168.09</td>\n",
              "      <td>1144.47</td>\n",
              "    </tr>\n",
              "    <tr>\n",
              "      <th>2023-09-29</th>\n",
              "      <td>1166.26</td>\n",
              "      <td>1169.26</td>\n",
              "      <td>1176.77</td>\n",
              "      <td>1165.15</td>\n",
              "    </tr>\n",
              "  </tbody>\n",
              "</table>\n",
              "<p>3678 rows × 4 columns</p>\n",
              "</div>\n",
              "    <div class=\"colab-df-buttons\">\n",
              "\n",
              "  <div class=\"colab-df-container\">\n",
              "    <button class=\"colab-df-convert\" onclick=\"convertToInteractive('df-b6e844b3-3b3e-4f85-8e74-fc56e8c975a1')\"\n",
              "            title=\"Convert this dataframe to an interactive table.\"\n",
              "            style=\"display:none;\">\n",
              "\n",
              "  <svg xmlns=\"http://www.w3.org/2000/svg\" height=\"24px\" viewBox=\"0 -960 960 960\">\n",
              "    <path d=\"M120-120v-720h720v720H120Zm60-500h600v-160H180v160Zm220 220h160v-160H400v160Zm0 220h160v-160H400v160ZM180-400h160v-160H180v160Zm440 0h160v-160H620v160ZM180-180h160v-160H180v160Zm440 0h160v-160H620v160Z\"/>\n",
              "  </svg>\n",
              "    </button>\n",
              "\n",
              "  <style>\n",
              "    .colab-df-container {\n",
              "      display:flex;\n",
              "      gap: 12px;\n",
              "    }\n",
              "\n",
              "    .colab-df-convert {\n",
              "      background-color: #E8F0FE;\n",
              "      border: none;\n",
              "      border-radius: 50%;\n",
              "      cursor: pointer;\n",
              "      display: none;\n",
              "      fill: #1967D2;\n",
              "      height: 32px;\n",
              "      padding: 0 0 0 0;\n",
              "      width: 32px;\n",
              "    }\n",
              "\n",
              "    .colab-df-convert:hover {\n",
              "      background-color: #E2EBFA;\n",
              "      box-shadow: 0px 1px 2px rgba(60, 64, 67, 0.3), 0px 1px 3px 1px rgba(60, 64, 67, 0.15);\n",
              "      fill: #174EA6;\n",
              "    }\n",
              "\n",
              "    .colab-df-buttons div {\n",
              "      margin-bottom: 4px;\n",
              "    }\n",
              "\n",
              "    [theme=dark] .colab-df-convert {\n",
              "      background-color: #3B4455;\n",
              "      fill: #D2E3FC;\n",
              "    }\n",
              "\n",
              "    [theme=dark] .colab-df-convert:hover {\n",
              "      background-color: #434B5C;\n",
              "      box-shadow: 0px 1px 3px 1px rgba(0, 0, 0, 0.15);\n",
              "      filter: drop-shadow(0px 1px 2px rgba(0, 0, 0, 0.3));\n",
              "      fill: #FFFFFF;\n",
              "    }\n",
              "  </style>\n",
              "\n",
              "    <script>\n",
              "      const buttonEl =\n",
              "        document.querySelector('#df-b6e844b3-3b3e-4f85-8e74-fc56e8c975a1 button.colab-df-convert');\n",
              "      buttonEl.style.display =\n",
              "        google.colab.kernel.accessAllowed ? 'block' : 'none';\n",
              "\n",
              "      async function convertToInteractive(key) {\n",
              "        const element = document.querySelector('#df-b6e844b3-3b3e-4f85-8e74-fc56e8c975a1');\n",
              "        const dataTable =\n",
              "          await google.colab.kernel.invokeFunction('convertToInteractive',\n",
              "                                                    [key], {});\n",
              "        if (!dataTable) return;\n",
              "\n",
              "        const docLinkHtml = 'Like what you see? Visit the ' +\n",
              "          '<a target=\"_blank\" href=https://colab.research.google.com/notebooks/data_table.ipynb>data table notebook</a>'\n",
              "          + ' to learn more about interactive tables.';\n",
              "        element.innerHTML = '';\n",
              "        dataTable['output_type'] = 'display_data';\n",
              "        await google.colab.output.renderOutput(dataTable, element);\n",
              "        const docLink = document.createElement('div');\n",
              "        docLink.innerHTML = docLinkHtml;\n",
              "        element.appendChild(docLink);\n",
              "      }\n",
              "    </script>\n",
              "  </div>\n",
              "\n",
              "\n",
              "<div id=\"df-e8299393-54eb-4d8b-9b87-180c76a169f2\">\n",
              "  <button class=\"colab-df-quickchart\" onclick=\"quickchart('df-e8299393-54eb-4d8b-9b87-180c76a169f2')\"\n",
              "            title=\"Suggest charts\"\n",
              "            style=\"display:none;\">\n",
              "\n",
              "<svg xmlns=\"http://www.w3.org/2000/svg\" height=\"24px\"viewBox=\"0 0 24 24\"\n",
              "     width=\"24px\">\n",
              "    <g>\n",
              "        <path d=\"M19 3H5c-1.1 0-2 .9-2 2v14c0 1.1.9 2 2 2h14c1.1 0 2-.9 2-2V5c0-1.1-.9-2-2-2zM9 17H7v-7h2v7zm4 0h-2V7h2v10zm4 0h-2v-4h2v4z\"/>\n",
              "    </g>\n",
              "</svg>\n",
              "  </button>\n",
              "\n",
              "<style>\n",
              "  .colab-df-quickchart {\n",
              "      --bg-color: #E8F0FE;\n",
              "      --fill-color: #1967D2;\n",
              "      --hover-bg-color: #E2EBFA;\n",
              "      --hover-fill-color: #174EA6;\n",
              "      --disabled-fill-color: #AAA;\n",
              "      --disabled-bg-color: #DDD;\n",
              "  }\n",
              "\n",
              "  [theme=dark] .colab-df-quickchart {\n",
              "      --bg-color: #3B4455;\n",
              "      --fill-color: #D2E3FC;\n",
              "      --hover-bg-color: #434B5C;\n",
              "      --hover-fill-color: #FFFFFF;\n",
              "      --disabled-bg-color: #3B4455;\n",
              "      --disabled-fill-color: #666;\n",
              "  }\n",
              "\n",
              "  .colab-df-quickchart {\n",
              "    background-color: var(--bg-color);\n",
              "    border: none;\n",
              "    border-radius: 50%;\n",
              "    cursor: pointer;\n",
              "    display: none;\n",
              "    fill: var(--fill-color);\n",
              "    height: 32px;\n",
              "    padding: 0;\n",
              "    width: 32px;\n",
              "  }\n",
              "\n",
              "  .colab-df-quickchart:hover {\n",
              "    background-color: var(--hover-bg-color);\n",
              "    box-shadow: 0 1px 2px rgba(60, 64, 67, 0.3), 0 1px 3px 1px rgba(60, 64, 67, 0.15);\n",
              "    fill: var(--button-hover-fill-color);\n",
              "  }\n",
              "\n",
              "  .colab-df-quickchart-complete:disabled,\n",
              "  .colab-df-quickchart-complete:disabled:hover {\n",
              "    background-color: var(--disabled-bg-color);\n",
              "    fill: var(--disabled-fill-color);\n",
              "    box-shadow: none;\n",
              "  }\n",
              "\n",
              "  .colab-df-spinner {\n",
              "    border: 2px solid var(--fill-color);\n",
              "    border-color: transparent;\n",
              "    border-bottom-color: var(--fill-color);\n",
              "    animation:\n",
              "      spin 1s steps(1) infinite;\n",
              "  }\n",
              "\n",
              "  @keyframes spin {\n",
              "    0% {\n",
              "      border-color: transparent;\n",
              "      border-bottom-color: var(--fill-color);\n",
              "      border-left-color: var(--fill-color);\n",
              "    }\n",
              "    20% {\n",
              "      border-color: transparent;\n",
              "      border-left-color: var(--fill-color);\n",
              "      border-top-color: var(--fill-color);\n",
              "    }\n",
              "    30% {\n",
              "      border-color: transparent;\n",
              "      border-left-color: var(--fill-color);\n",
              "      border-top-color: var(--fill-color);\n",
              "      border-right-color: var(--fill-color);\n",
              "    }\n",
              "    40% {\n",
              "      border-color: transparent;\n",
              "      border-right-color: var(--fill-color);\n",
              "      border-top-color: var(--fill-color);\n",
              "    }\n",
              "    60% {\n",
              "      border-color: transparent;\n",
              "      border-right-color: var(--fill-color);\n",
              "    }\n",
              "    80% {\n",
              "      border-color: transparent;\n",
              "      border-right-color: var(--fill-color);\n",
              "      border-bottom-color: var(--fill-color);\n",
              "    }\n",
              "    90% {\n",
              "      border-color: transparent;\n",
              "      border-bottom-color: var(--fill-color);\n",
              "    }\n",
              "  }\n",
              "</style>\n",
              "\n",
              "  <script>\n",
              "    async function quickchart(key) {\n",
              "      const quickchartButtonEl =\n",
              "        document.querySelector('#' + key + ' button');\n",
              "      quickchartButtonEl.disabled = true;  // To prevent multiple clicks.\n",
              "      quickchartButtonEl.classList.add('colab-df-spinner');\n",
              "      try {\n",
              "        const charts = await google.colab.kernel.invokeFunction(\n",
              "            'suggestCharts', [key], {});\n",
              "      } catch (error) {\n",
              "        console.error('Error during call to suggestCharts:', error);\n",
              "      }\n",
              "      quickchartButtonEl.classList.remove('colab-df-spinner');\n",
              "      quickchartButtonEl.classList.add('colab-df-quickchart-complete');\n",
              "    }\n",
              "    (() => {\n",
              "      let quickchartButtonEl =\n",
              "        document.querySelector('#df-e8299393-54eb-4d8b-9b87-180c76a169f2 button');\n",
              "      quickchartButtonEl.style.display =\n",
              "        google.colab.kernel.accessAllowed ? 'block' : 'none';\n",
              "    })();\n",
              "  </script>\n",
              "</div>\n",
              "\n",
              "  <div id=\"id_5585f73a-e43e-4fc5-b237-2c79f94a029a\">\n",
              "    <style>\n",
              "      .colab-df-generate {\n",
              "        background-color: #E8F0FE;\n",
              "        border: none;\n",
              "        border-radius: 50%;\n",
              "        cursor: pointer;\n",
              "        display: none;\n",
              "        fill: #1967D2;\n",
              "        height: 32px;\n",
              "        padding: 0 0 0 0;\n",
              "        width: 32px;\n",
              "      }\n",
              "\n",
              "      .colab-df-generate:hover {\n",
              "        background-color: #E2EBFA;\n",
              "        box-shadow: 0px 1px 2px rgba(60, 64, 67, 0.3), 0px 1px 3px 1px rgba(60, 64, 67, 0.15);\n",
              "        fill: #174EA6;\n",
              "      }\n",
              "\n",
              "      [theme=dark] .colab-df-generate {\n",
              "        background-color: #3B4455;\n",
              "        fill: #D2E3FC;\n",
              "      }\n",
              "\n",
              "      [theme=dark] .colab-df-generate:hover {\n",
              "        background-color: #434B5C;\n",
              "        box-shadow: 0px 1px 3px 1px rgba(0, 0, 0, 0.15);\n",
              "        filter: drop-shadow(0px 1px 2px rgba(0, 0, 0, 0.3));\n",
              "        fill: #FFFFFF;\n",
              "      }\n",
              "    </style>\n",
              "    <button class=\"colab-df-generate\" onclick=\"generateWithVariable('df')\"\n",
              "            title=\"Generate code using this dataframe.\"\n",
              "            style=\"display:none;\">\n",
              "\n",
              "  <svg xmlns=\"http://www.w3.org/2000/svg\" height=\"24px\"viewBox=\"0 0 24 24\"\n",
              "       width=\"24px\">\n",
              "    <path d=\"M7,19H8.4L18.45,9,17,7.55,7,17.6ZM5,21V16.75L18.45,3.32a2,2,0,0,1,2.83,0l1.4,1.43a1.91,1.91,0,0,1,.58,1.4,1.91,1.91,0,0,1-.58,1.4L9.25,21ZM18.45,9,17,7.55Zm-12,3A5.31,5.31,0,0,0,4.9,8.1,5.31,5.31,0,0,0,1,6.5,5.31,5.31,0,0,0,4.9,4.9,5.31,5.31,0,0,0,6.5,1,5.31,5.31,0,0,0,8.1,4.9,5.31,5.31,0,0,0,12,6.5,5.46,5.46,0,0,0,6.5,12Z\"/>\n",
              "  </svg>\n",
              "    </button>\n",
              "    <script>\n",
              "      (() => {\n",
              "      const buttonEl =\n",
              "        document.querySelector('#id_5585f73a-e43e-4fc5-b237-2c79f94a029a button.colab-df-generate');\n",
              "      buttonEl.style.display =\n",
              "        google.colab.kernel.accessAllowed ? 'block' : 'none';\n",
              "\n",
              "      buttonEl.onclick = () => {\n",
              "        google.colab.notebook.generateWithVariable('df');\n",
              "      }\n",
              "      })();\n",
              "    </script>\n",
              "  </div>\n",
              "\n",
              "    </div>\n",
              "  </div>\n"
            ]
          },
          "metadata": {},
          "execution_count": 4
        }
      ]
    },
    {
      "cell_type": "code",
      "source": [
        "print(df.dtypes)"
      ],
      "metadata": {
        "colab": {
          "base_uri": "https://localhost:8080/"
        },
        "id": "fxYCyyaX9axC",
        "outputId": "1b711a81-cb81-48a9-c8f6-9372b1999302"
      },
      "execution_count": null,
      "outputs": [
        {
          "output_type": "stream",
          "name": "stdout",
          "text": [
            "Close    float64\n",
            "Open     float64\n",
            "High     float64\n",
            "Low      float64\n",
            "dtype: object\n"
          ]
        }
      ]
    },
    {
      "cell_type": "code",
      "source": [
        "df.info()"
      ],
      "metadata": {
        "colab": {
          "base_uri": "https://localhost:8080/"
        },
        "id": "fVpfIHo1DYwg",
        "outputId": "6e65a68e-4617-4fee-adda-6366a98d0124"
      },
      "execution_count": null,
      "outputs": [
        {
          "output_type": "stream",
          "name": "stdout",
          "text": [
            "<class 'pandas.core.frame.DataFrame'>\n",
            "DatetimeIndex: 3678 entries, 2009-01-05 to 2023-09-29\n",
            "Data columns (total 4 columns):\n",
            " #   Column  Non-Null Count  Dtype  \n",
            "---  ------  --------------  -----  \n",
            " 0   Close   3678 non-null   float64\n",
            " 1   Open    3678 non-null   float64\n",
            " 2   High    3678 non-null   float64\n",
            " 3   Low     3678 non-null   float64\n",
            "dtypes: float64(4)\n",
            "memory usage: 143.7 KB\n"
          ]
        }
      ]
    },
    {
      "cell_type": "code",
      "source": [
        "df['Close'] = df['Close'].fillna(method='ffill', inplace=False)"
      ],
      "metadata": {
        "id": "PPFM-gV0DovU"
      },
      "execution_count": null,
      "outputs": []
    },
    {
      "cell_type": "code",
      "source": [
        "df.info()"
      ],
      "metadata": {
        "colab": {
          "base_uri": "https://localhost:8080/"
        },
        "id": "LYfpBG-rFGag",
        "outputId": "077c15dc-0ae8-49ba-a8bf-ea0237a2f358"
      },
      "execution_count": null,
      "outputs": [
        {
          "output_type": "stream",
          "name": "stdout",
          "text": [
            "<class 'pandas.core.frame.DataFrame'>\n",
            "DatetimeIndex: 3678 entries, 2009-01-05 to 2023-09-29\n",
            "Data columns (total 4 columns):\n",
            " #   Column  Non-Null Count  Dtype  \n",
            "---  ------  --------------  -----  \n",
            " 0   Close   3678 non-null   float64\n",
            " 1   Open    3678 non-null   float64\n",
            " 2   High    3678 non-null   float64\n",
            " 3   Low     3678 non-null   float64\n",
            "dtypes: float64(4)\n",
            "memory usage: 143.7 KB\n"
          ]
        }
      ]
    },
    {
      "cell_type": "code",
      "source": [
        "df_month = df.resample('M').mean()"
      ],
      "metadata": {
        "id": "xaFoXyTpD1wq"
      },
      "execution_count": null,
      "outputs": []
    },
    {
      "cell_type": "code",
      "source": [
        "df_month.shape[0]-df_month.shape[0]*0.2"
      ],
      "metadata": {
        "colab": {
          "base_uri": "https://localhost:8080/"
        },
        "id": "Kk9YRmJEGTwv",
        "outputId": "6804297f-91a9-4dca-ff68-93ba1402f280"
      },
      "execution_count": null,
      "outputs": [
        {
          "output_type": "execute_result",
          "data": {
            "text/plain": [
              "141.6"
            ]
          },
          "metadata": {},
          "execution_count": 10
        }
      ]
    },
    {
      "cell_type": "code",
      "source": [
        "df_month.index[142]"
      ],
      "metadata": {
        "colab": {
          "base_uri": "https://localhost:8080/"
        },
        "id": "ks2o_tyVGbdx",
        "outputId": "c250be19-3253-4188-c81c-7f1382c45efd"
      },
      "execution_count": null,
      "outputs": [
        {
          "output_type": "execute_result",
          "data": {
            "text/plain": [
              "Timestamp('2020-11-30 00:00:00', freq='M')"
            ]
          },
          "metadata": {},
          "execution_count": 11
        }
      ]
    },
    {
      "cell_type": "code",
      "source": [
        "df_month['2020-06-30':'2021-06-30'].Close"
      ],
      "metadata": {
        "colab": {
          "base_uri": "https://localhost:8080/"
        },
        "id": "G7j6qagFFxNz",
        "outputId": "3b05ae17-975b-4414-fecb-ea153c6bc9b6"
      },
      "execution_count": null,
      "outputs": [
        {
          "output_type": "execute_result",
          "data": {
            "text/plain": [
              "Time\n",
              "2020-06-30     808.176364\n",
              "2020-07-31     788.903043\n",
              "2020-08-31     793.340476\n",
              "2020-09-30     841.222381\n",
              "2020-10-31     890.926364\n",
              "2020-11-30     932.560476\n",
              "2020-12-31    1022.415217\n",
              "2021-01-31    1128.167500\n",
              "2021-02-28    1141.328000\n",
              "2021-03-31    1184.748696\n",
              "2021-04-30    1274.834000\n",
              "2021-05-31    1396.133500\n",
              "2021-06-30    1486.825000\n",
              "Freq: M, Name: Close, dtype: float64"
            ]
          },
          "metadata": {},
          "execution_count": 12
        }
      ]
    },
    {
      "cell_type": "code",
      "source": [
        "target_col = 'Close'"
      ],
      "metadata": {
        "id": "9eu0L6gT-fFA"
      },
      "execution_count": null,
      "outputs": []
    },
    {
      "cell_type": "code",
      "source": [
        "def train_test_split(df, test_size=0.2):\n",
        "    split_row = len(df) - int(test_size * len(df))\n",
        "    train_data = df.iloc[:split_row]\n",
        "    test_data = df.iloc[split_row:]\n",
        "    return train_data, test_data"
      ],
      "metadata": {
        "id": "ocytbxO99a0q"
      },
      "execution_count": null,
      "outputs": []
    },
    {
      "cell_type": "code",
      "source": [
        "train, test = train_test_split(df_month, test_size=0.2)"
      ],
      "metadata": {
        "id": "z6vP7LSs9rv7"
      },
      "execution_count": null,
      "outputs": []
    },
    {
      "cell_type": "code",
      "source": [
        "def line_plot(line1, line2, label1=None, label2=None, lw=2, title='', figsize=(12, 6)):\n",
        "    fig, ax = plt.subplots(figsize=figsize)\n",
        "    ax.plot(line1, label=label1, linewidth=lw)\n",
        "    ax.plot(line2, label=label2, linewidth=lw)\n",
        "    ax.set_ylabel('VN30', fontsize=14)\n",
        "    ax.set_title(title, fontsize=16)\n",
        "    ax.legend(loc='best', fontsize=16)\n",
        "    plt.show()"
      ],
      "metadata": {
        "id": "UVsTlMkP9ryx"
      },
      "execution_count": null,
      "outputs": []
    },
    {
      "cell_type": "code",
      "source": [
        "line_plot(df_month.Close, test.Close, 'train', 'test', title='')"
      ],
      "metadata": {
        "colab": {
          "base_uri": "https://localhost:8080/",
          "height": 328
        },
        "id": "YXZFjlg29r1L",
        "outputId": "2b09f2e0-5a06-4b36-f804-fa4d602229c2"
      },
      "execution_count": null,
      "outputs": [
        {
          "output_type": "display_data",
          "data": {
            "text/plain": [
              "<Figure size 1200x600 with 1 Axes>"
            ],
            "image/png": "[encoded data removed]"
          },
          "metadata": {}
        }
      ]
    },
    {
      "cell_type": "code",
      "source": [
        "def normalise_zero_base(df):\n",
        "    return df / df.iloc[0] - 1\n",
        "\n",
        "def normalise_min_max(df):\n",
        "    return (df - df.min()) / (df.max() - df.min())"
      ],
      "metadata": {
        "id": "kSiNvODa9r6_"
      },
      "execution_count": null,
      "outputs": []
    },
    {
      "cell_type": "code",
      "source": [
        "np.random.seed(42)\n",
        "window_len = 1\n",
        "test_size = 0.2\n",
        "zero_base = True\n",
        "lstm_neurons = 100\n",
        "epochs = 50\n",
        "batch_size = 25\n",
        "loss = 'mse'\n",
        "dropout = 0.2\n",
        "optimizer = 'adam'\n",
        "learning_rate=1e-6"
      ],
      "metadata": {
        "id": "wAkzTCk2_--1"
      },
      "execution_count": null,
      "outputs": []
    },
    {
      "cell_type": "code",
      "source": [
        "def extract_window_data(df, window_len= window_len, zero_base=True):\n",
        "    window_data = []\n",
        "    for idx in range(len(df) - window_len):\n",
        "        tmp = df[idx: (idx + window_len)].copy()\n",
        "        if zero_base:\n",
        "            tmp = normalise_zero_base(tmp)\n",
        "        window_data.append(tmp.values)\n",
        "    return np.array(window_data)"
      ],
      "metadata": {
        "id": "wL1OUiuB9r9X"
      },
      "execution_count": null,
      "outputs": []
    },
    {
      "cell_type": "code",
      "source": [
        "def prepare_data(df, target_col, window_len= window_len, zero_base=True, test_size=0.2):\n",
        "    train_data, test_data = train_test_split(df, test_size=test_size)\n",
        "    X_train = extract_window_data(train_data, window_len, zero_base)\n",
        "    X_test = extract_window_data(test_data, window_len, zero_base)\n",
        "    y_train = train_data[target_col][window_len:].values\n",
        "    y_test = test_data[target_col][window_len:].values\n",
        "    if zero_base:\n",
        "        y_train = y_train / train_data[target_col][:-window_len].values - 1\n",
        "        y_test = y_test / test_data[target_col][:-window_len].values - 1\n",
        "\n",
        "    return train_data, test_data, X_train, X_test, y_train, y_test"
      ],
      "metadata": {
        "id": "8GatUHMzCEyA"
      },
      "execution_count": null,
      "outputs": []
    },
    {
      "cell_type": "code",
      "source": [
        "def build_lstm_model(input_data, output_size, neurons, activ_func, dropout, loss, optimizer):\n",
        "    model = Sequential()\n",
        "\n",
        "    # First LSTM layer - define input_shape and set return_sequences=True\n",
        "    model.add(LSTM(neurons, input_shape=(input_data.shape[1], input_data.shape[2]), return_sequences=True))\n",
        "    model.add(Dropout(dropout))\n",
        "\n",
        "    # Subsequent LSTM layers - only set return_sequences=True for all but the last LSTM layer\n",
        "    model.add(LSTM(neurons, return_sequences=True))\n",
        "    model.add(Dropout(dropout))\n",
        "\n",
        "    model.add(LSTM(neurons, return_sequences=True))\n",
        "    model.add(Dropout(dropout))\n",
        "\n",
        "    # Last LSTM layer - do not set return_sequences as it should be False by default\n",
        "    model.add(LSTM(neurons))\n",
        "    model.add(Dropout(dropout))\n",
        "\n",
        "    # Output layer\n",
        "    model.add(Dense(units=output_size))\n",
        "    model.add(Activation(activ_func))\n",
        "\n",
        "    # Compile the model\n",
        "    model.compile(loss=loss, optimizer=optimizer)\n",
        "\n",
        "    return model"
      ],
      "metadata": {
        "id": "Wn_i517p_-3W"
      },
      "execution_count": null,
      "outputs": []
    },
    {
      "cell_type": "code",
      "source": [
        "train, test, X_train, X_test, y_train, y_test = prepare_data(df_month, target_col, window_len=window_len, zero_base=zero_base, test_size=test_size)"
      ],
      "metadata": {
        "id": "nxt3utYB__Ay"
      },
      "execution_count": null,
      "outputs": []
    },
    {
      "cell_type": "code",
      "source": [
        "print(train.shape[0])\n",
        "print(test.shape[0])"
      ],
      "metadata": {
        "colab": {
          "base_uri": "https://localhost:8080/"
        },
        "id": "QNzFgxoOJ7mp",
        "outputId": "ab8e187c-8717-4d45-b602-d19d76bce52a"
      },
      "execution_count": null,
      "outputs": [
        {
          "output_type": "stream",
          "name": "stdout",
          "text": [
            "142\n",
            "35\n"
          ]
        }
      ]
    },
    {
      "cell_type": "code",
      "source": [
        "print(len(X_train))\n",
        "print(len(X_test))"
      ],
      "metadata": {
        "colab": {
          "base_uri": "https://localhost:8080/"
        },
        "id": "dJ1ni_-BIU-1",
        "outputId": "e9c39c3a-7a19-4f14-a154-72b05ebe2d9d"
      },
      "execution_count": null,
      "outputs": [
        {
          "output_type": "stream",
          "name": "stdout",
          "text": [
            "141\n",
            "34\n"
          ]
        }
      ]
    },
    {
      "cell_type": "code",
      "source": [
        "model = build_lstm_model(X_train, output_size=1, neurons=lstm_neurons, activ_func='linear', dropout=dropout, loss='mse', optimizer=optimizer)\n",
        "history = model.fit(X_train, y_train, validation_data=(X_test, y_test), epochs=epochs, batch_size=batch_size, verbose=1, shuffle=True)"
      ],
      "metadata": {
        "colab": {
          "base_uri": "https://localhost:8080/"
        },
        "id": "PYz_zAB1__DZ",
        "outputId": "41224866-c853-4542-ddd6-17c8e6302845"
      },
      "execution_count": null,
      "outputs": [
        {
          "output_type": "stream",
          "name": "stdout",
          "text": [
            "Epoch 1/50\n",
            "6/6 [==============================] - 10s 341ms/step - loss: 0.0038 - val_loss: 0.0030\n",
            "Epoch 2/50\n",
            "6/6 [==============================] - 0s 18ms/step - loss: 0.0037 - val_loss: 0.0030\n",
            "Epoch 3/50\n",
            "6/6 [==============================] - 0s 15ms/step - loss: 0.0037 - val_loss: 0.0030\n",
            "Epoch 4/50\n",
            "6/6 [==============================] - 0s 18ms/step - loss: 0.0037 - val_loss: 0.0030\n",
            "Epoch 5/50\n",
            "6/6 [==============================] - 0s 18ms/step - loss: 0.0037 - val_loss: 0.0030\n",
            "Epoch 6/50\n",
            "6/6 [==============================] - 0s 18ms/step - loss: 0.0037 - val_loss: 0.0030\n",
            "Epoch 7/50\n",
            "6/6 [==============================] - 0s 15ms/step - loss: 0.0037 - val_loss: 0.0030\n",
            "Epoch 8/50\n",
            "6/6 [==============================] - 0s 19ms/step - loss: 0.0037 - val_loss: 0.0030\n",
            "Epoch 9/50\n",
            "6/6 [==============================] - 0s 21ms/step - loss: 0.0037 - val_loss: 0.0030\n",
            "Epoch 10/50\n",
            "6/6 [==============================] - 0s 22ms/step - loss: 0.0037 - val_loss: 0.0030\n",
            "Epoch 11/50\n",
            "6/6 [==============================] - 0s 19ms/step - loss: 0.0037 - val_loss: 0.0030\n",
            "Epoch 12/50\n",
            "6/6 [==============================] - 0s 24ms/step - loss: 0.0037 - val_loss: 0.0030\n",
            "Epoch 13/50\n",
            "6/6 [==============================] - 0s 26ms/step - loss: 0.0037 - val_loss: 0.0030\n",
            "Epoch 14/50\n",
            "6/6 [==============================] - 0s 26ms/step - loss: 0.0037 - val_loss: 0.0030\n",
            "Epoch 15/50\n",
            "6/6 [==============================] - 0s 29ms/step - loss: 0.0037 - val_loss: 0.0030\n",
            "Epoch 16/50\n",
            "6/6 [==============================] - 0s 28ms/step - loss: 0.0037 - val_loss: 0.0030\n",
            "Epoch 17/50\n",
            "6/6 [==============================] - 0s 25ms/step - loss: 0.0037 - val_loss: 0.0030\n",
            "Epoch 18/50\n",
            "6/6 [==============================] - 0s 26ms/step - loss: 0.0037 - val_loss: 0.0030\n",
            "Epoch 19/50\n",
            "6/6 [==============================] - 0s 28ms/step - loss: 0.0037 - val_loss: 0.0030\n",
            "Epoch 20/50\n",
            "6/6 [==============================] - 0s 26ms/step - loss: 0.0037 - val_loss: 0.0030\n",
            "Epoch 21/50\n",
            "6/6 [==============================] - 0s 25ms/step - loss: 0.0037 - val_loss: 0.0030\n",
            "Epoch 22/50\n",
            "6/6 [==============================] - 0s 28ms/step - loss: 0.0037 - val_loss: 0.0030\n",
            "Epoch 23/50\n",
            "6/6 [==============================] - 0s 24ms/step - loss: 0.0037 - val_loss: 0.0030\n",
            "Epoch 24/50\n",
            "6/6 [==============================] - 0s 26ms/step - loss: 0.0037 - val_loss: 0.0030\n",
            "Epoch 25/50\n",
            "6/6 [==============================] - 0s 22ms/step - loss: 0.0037 - val_loss: 0.0030\n",
            "Epoch 26/50\n",
            "6/6 [==============================] - 0s 23ms/step - loss: 0.0037 - val_loss: 0.0030\n",
            "Epoch 27/50\n",
            "6/6 [==============================] - 0s 23ms/step - loss: 0.0037 - val_loss: 0.0030\n",
            "Epoch 28/50\n",
            "6/6 [==============================] - 0s 27ms/step - loss: 0.0037 - val_loss: 0.0030\n",
            "Epoch 29/50\n",
            "6/6 [==============================] - 0s 30ms/step - loss: 0.0037 - val_loss: 0.0030\n",
            "Epoch 30/50\n",
            "6/6 [==============================] - 0s 25ms/step - loss: 0.0037 - val_loss: 0.0030\n",
            "Epoch 31/50\n",
            "6/6 [==============================] - 0s 26ms/step - loss: 0.0037 - val_loss: 0.0030\n",
            "Epoch 32/50\n",
            "6/6 [==============================] - 0s 26ms/step - loss: 0.0037 - val_loss: 0.0030\n",
            "Epoch 33/50\n",
            "6/6 [==============================] - 0s 23ms/step - loss: 0.0037 - val_loss: 0.0030\n",
            "Epoch 34/50\n",
            "6/6 [==============================] - 0s 30ms/step - loss: 0.0037 - val_loss: 0.0030\n",
            "Epoch 35/50\n",
            "6/6 [==============================] - 0s 27ms/step - loss: 0.0037 - val_loss: 0.0030\n",
            "Epoch 36/50\n",
            "6/6 [==============================] - 0s 25ms/step - loss: 0.0037 - val_loss: 0.0030\n",
            "Epoch 37/50\n",
            "6/6 [==============================] - 0s 26ms/step - loss: 0.0037 - val_loss: 0.0030\n",
            "Epoch 38/50\n",
            "6/6 [==============================] - 0s 26ms/step - loss: 0.0037 - val_loss: 0.0030\n",
            "Epoch 39/50\n",
            "6/6 [==============================] - 0s 20ms/step - loss: 0.0037 - val_loss: 0.0030\n",
            "Epoch 40/50\n",
            "6/6 [==============================] - 0s 16ms/step - loss: 0.0037 - val_loss: 0.0030\n",
            "Epoch 41/50\n",
            "6/6 [==============================] - 0s 19ms/step - loss: 0.0037 - val_loss: 0.0030\n",
            "Epoch 42/50\n",
            "6/6 [==============================] - 0s 15ms/step - loss: 0.0037 - val_loss: 0.0030\n",
            "Epoch 43/50\n",
            "6/6 [==============================] - 0s 18ms/step - loss: 0.0037 - val_loss: 0.0030\n",
            "Epoch 44/50\n",
            "6/6 [==============================] - 0s 20ms/step - loss: 0.0037 - val_loss: 0.0030\n",
            "Epoch 45/50\n",
            "6/6 [==============================] - 0s 19ms/step - loss: 0.0037 - val_loss: 0.0030\n",
            "Epoch 46/50\n",
            "6/6 [==============================] - 0s 16ms/step - loss: 0.0037 - val_loss: 0.0030\n",
            "Epoch 47/50\n",
            "6/6 [==============================] - 0s 16ms/step - loss: 0.0037 - val_loss: 0.0030\n",
            "Epoch 48/50\n",
            "6/6 [==============================] - 0s 20ms/step - loss: 0.0037 - val_loss: 0.0030\n",
            "Epoch 49/50\n",
            "6/6 [==============================] - 0s 18ms/step - loss: 0.0037 - val_loss: 0.0030\n",
            "Epoch 50/50\n",
            "6/6 [==============================] - 0s 20ms/step - loss: 0.0037 - val_loss: 0.0030\n"
          ]
        }
      ]
    },
    {
      "cell_type": "code",
      "source": [
        "import matplotlib.pyplot as plt\n",
        "plt.plot(history.history['loss'],'r',linewidth=2, label='Training loss')\n",
        "plt.plot(history.history['val_loss'], 'g',linewidth=2, label='Validation loss')\n",
        "plt.title('LSTM')\n",
        "plt.xlabel('Epochs')\n",
        "plt.ylabel('MSE')\n",
        "plt.legend()\n",
        "plt.show()"
      ],
      "metadata": {
        "colab": {
          "base_uri": "https://localhost:8080/",
          "height": 472
        },
        "id": "6sGnmz0N__He",
        "outputId": "1d91dc39-6c06-4744-d9e1-26ba339ec614"
      },
      "execution_count": null,
      "outputs": [
        {
          "output_type": "display_data",
          "data": {
            "text/plain": [
              "<Figure size 640x480 with 1 Axes>"
            ],
            "image/png": "[encoded data removed]"
          },
          "metadata": {}
        }
      ]
    },
    {
      "cell_type": "code",
      "source": [
        "targets = test[target_col][window_len:]\n",
        "preds = model.predict(X_test).squeeze()"
      ],
      "metadata": {
        "colab": {
          "base_uri": "https://localhost:8080/"
        },
        "id": "uy_HqvL_I0fQ",
        "outputId": "2acba4b8-987e-442b-9f6b-87d9fa9afde2"
      },
      "execution_count": null,
      "outputs": [
        {
          "output_type": "stream",
          "name": "stdout",
          "text": [
            "2/2 [==============================] - 2s 9ms/step\n"
          ]
        }
      ]
    },
    {
      "cell_type": "code",
      "source": [
        "def line_plot1(line1, line2, line3, label1=None, label2=None, label3=None, title='VN30 Prediction', lw=1, figsize=(12,6)):\n",
        "    fig, ax = plt.subplots(figsize=figsize)\n",
        "    ax.plot(line1, label=label1, linewidth=lw)\n",
        "    ax.plot(line2, label=label2, linewidth=lw)\n",
        "    ax.plot(line3, label=label3, linewidth=lw)\n",
        "    ax.set_ylabel('VN30', fontsize=14)\n",
        "    ax.set_title(title, fontsize=16)\n",
        "    ax.legend(loc='best', fontsize=16)\n",
        "    plt.show()"
      ],
      "metadata": {
        "id": "b8HIBcUCfX0F"
      },
      "execution_count": null,
      "outputs": []
    },
    {
      "cell_type": "code",
      "source": [
        "preds = test[target_col].values[:-window_len] * (preds+1)\n",
        "preds = pd.Series(index=targets.index, data=preds)\n",
        "line_plot1(df_month[\"Close\"], test['Close'], preds, 'Train', 'Test', 'Prediction')"
      ],
      "metadata": {
        "colab": {
          "base_uri": "https://localhost:8080/",
          "height": 343
        },
        "id": "oFTMZMQII0ql",
        "outputId": "aedae405-1bfc-4369-a731-f3d7006dc75e"
      },
      "execution_count": null,
      "outputs": [
        {
          "output_type": "display_data",
          "data": {
            "text/plain": [
              "<Figure size 1200x600 with 1 Axes>"
            ],
            "image/png": "[encoded data removed]"
          },
          "metadata": {}
        }
      ]
    },
    {
      "cell_type": "code",
      "source": [
        "targets"
      ],
      "metadata": {
        "colab": {
          "base_uri": "https://localhost:8080/"
        },
        "id": "QF0ANwVkI0w2",
        "outputId": "00b1d110-9c89-4e82-d4e9-43ba7492e37c"
      },
      "execution_count": null,
      "outputs": [
        {
          "output_type": "execute_result",
          "data": {
            "text/plain": [
              "Time\n",
              "2020-12-31    1022.415217\n",
              "2021-01-31    1128.167500\n",
              "2021-02-28    1141.328000\n",
              "2021-03-31    1184.748696\n",
              "2021-04-30    1274.834000\n",
              "2021-05-31    1396.133500\n",
              "2021-06-30    1486.825000\n",
              "2021-07-31    1453.654091\n",
              "2021-08-31    1462.926364\n",
              "2021-09-30    1447.267000\n",
              "2021-10-31    1491.171429\n",
              "2021-11-30    1530.529091\n",
              "2021-12-31    1515.496957\n",
              "2022-01-31    1514.280526\n",
              "2022-02-28    1533.450625\n",
              "2022-03-31    1494.911739\n",
              "2022-04-30    1474.824500\n",
              "2022-05-31    1309.351000\n",
              "2022-06-30    1280.439091\n",
              "2022-07-31    1226.057143\n",
              "2022-08-31    1286.940000\n",
              "2022-09-30    1235.261000\n",
              "2022-10-31    1042.407143\n",
              "2022-11-30     975.403636\n",
              "2022-12-31    1043.924545\n",
              "2023-01-31    1082.902500\n",
              "2023-02-28    1058.397500\n",
              "2023-03-31    1044.384348\n",
              "2023-04-30    1065.473000\n",
              "2023-05-31    1061.515500\n",
              "2023-06-30    1109.795909\n",
              "2023-07-31    1165.240000\n",
              "2023-08-31    1222.701304\n",
              "2023-09-30    1217.350526\n",
              "Freq: M, Name: Close, dtype: float64"
            ]
          },
          "metadata": {},
          "execution_count": 31
        }
      ]
    },
    {
      "cell_type": "code",
      "source": [
        "preds"
      ],
      "metadata": {
        "id": "OG0BqunnJFq0",
        "outputId": "a995e972-76d2-48ec-ba26-ca9e9e843f1e",
        "colab": {
          "base_uri": "https://localhost:8080/"
        }
      },
      "execution_count": null,
      "outputs": [
        {
          "output_type": "execute_result",
          "data": {
            "text/plain": [
              "Time\n",
              "2020-12-31     939.520377\n",
              "2021-01-31    1030.045724\n",
              "2021-02-28    1136.587259\n",
              "2021-03-31    1149.845978\n",
              "2021-04-30    1193.590732\n",
              "2021-05-31    1284.348363\n",
              "2021-06-30    1406.553147\n",
              "2021-07-31    1497.921497\n",
              "2021-08-31    1464.503027\n",
              "2021-09-30    1473.844500\n",
              "2021-10-31    1458.068267\n",
              "2021-11-30    1502.300364\n",
              "2021-12-31    1541.951761\n",
              "2022-01-31    1526.807439\n",
              "2022-02-28    1525.581930\n",
              "2022-03-31    1544.895099\n",
              "2022-04-30    1506.068590\n",
              "2022-05-31    1485.831435\n",
              "2022-06-30    1319.122970\n",
              "2022-07-31    1289.995285\n",
              "2022-08-31    1235.207473\n",
              "2022-09-30    1296.544712\n",
              "2022-10-31    1244.480021\n",
              "2022-11-30    1050.186853\n",
              "2022-12-31     982.683285\n",
              "2023-01-31    1051.715581\n",
              "2023-02-28    1090.984436\n",
              "2023-03-31    1066.296550\n",
              "2023-04-30    1052.178815\n",
              "2023-05-31    1073.424856\n",
              "2023-06-30    1069.437820\n",
              "2023-07-31    1118.078557\n",
              "2023-08-31    1173.936439\n",
              "2023-09-30    1231.826589\n",
              "Freq: M, dtype: float64"
            ]
          },
          "metadata": {},
          "execution_count": 32
        }
      ]
    },
    {
      "cell_type": "code",
      "source": [
        "from sklearn.metrics import mean_absolute_error\n",
        "MAE = mean_absolute_error(preds, targets)\n",
        "MAE"
      ],
      "metadata": {
        "colab": {
          "base_uri": "https://localhost:8080/"
        },
        "id": "753K8pFg7-XF",
        "outputId": "0dec65ba-6088-45b9-f9ab-e1b4eb8ad287"
      },
      "execution_count": null,
      "outputs": [
        {
          "output_type": "execute_result",
          "data": {
            "text/plain": [
              "51.40169894027579"
            ]
          },
          "metadata": {},
          "execution_count": 33
        }
      ]
    },
    {
      "cell_type": "code",
      "source": [
        "from sklearn.metrics import mean_squared_error\n",
        "MSE = mean_squared_error(preds, targets)\n",
        "MSE"
      ],
      "metadata": {
        "colab": {
          "base_uri": "https://localhost:8080/"
        },
        "id": "HNJckZK9I0jV",
        "outputId": "44274e7a-2810-4337-ef23-640749f2d34e"
      },
      "execution_count": null,
      "outputs": [
        {
          "output_type": "execute_result",
          "data": {
            "text/plain": [
              "4554.309031821434"
            ]
          },
          "metadata": {},
          "execution_count": 34
        }
      ]
    },
    {
      "cell_type": "code",
      "source": [
        "from sklearn.metrics import r2_score\n",
        "R2 = r2_score(preds, targets)\n",
        "R2"
      ],
      "metadata": {
        "colab": {
          "base_uri": "https://localhost:8080/"
        },
        "id": "hb8y8H6YI0nX",
        "outputId": "71bc3060-8a0b-4ad0-81f5-cee69afec19e"
      },
      "execution_count": null,
      "outputs": [
        {
          "output_type": "execute_result",
          "data": {
            "text/plain": [
              "0.8755458682816386"
            ]
          },
          "metadata": {},
          "execution_count": 35
        }
      ]
    },
    {
      "cell_type": "code",
      "source": [
        "mape = np.sum(np.abs((targets - preds) / targets))*(100 / len(targets))\n",
        "rmse = np.sqrt(mean_squared_error(targets, preds))\n",
        "\n",
        "print(f\"MAPE: {mape:.2f}%\")\n",
        "print(f\"RMSE: {rmse}\")"
      ],
      "metadata": {
        "colab": {
          "base_uri": "https://localhost:8080/"
        },
        "id": "lwADHIipkzMQ",
        "outputId": "34367712-a876-4be0-a6e2-fad9c4c3a7f8"
      },
      "execution_count": null,
      "outputs": [
        {
          "output_type": "stream",
          "name": "stdout",
          "text": [
            "MAPE: 4.25%\n",
            "RMSE: 67.4856209263976\n"
          ]
        }
      ]
    }
  ]
}